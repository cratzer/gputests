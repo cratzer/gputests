{
 "metadata": {
  "name": ""
 },
 "nbformat": 3,
 "nbformat_minor": 0,
 "worksheets": [
  {
   "cells": [
    {
     "cell_type": "heading",
     "level": 1,
     "metadata": {},
     "source": [
      "Propuesta de cambios para el protocolo."
     ]
    },
    {
     "cell_type": "heading",
     "level": 2,
     "metadata": {},
     "source": [
      "Cambio de t\u00edtulo."
     ]
    },
    {
     "cell_type": "raw",
     "metadata": {},
     "source": [
      "Una de las observaciones que me hicieron tanto el profesor Eduardo como mis compa\u00f1eros durante la clase pasada de seminario de tesis, fue que el t\u00edtulo era demasiado largo y general. Propusieron acotarlo de tal modo que se hiciera \u00e9nfasis en que se trataba de una metodolog\u00eda, entonces pens\u00e9 y propongo este nuevo t\u00edtulo:\n",
      "\n",
      "Metodolog\u00eda para la evaluaci\u00f3n de procesadores masivamente paralelos aplicados al problema de la difusi\u00f3n.\n",
      "\n",
      "Me parece que es espec\u00edfico, deja de lado ciertas confusiones que hab\u00eda con el anterior y al mismo tiempo permite abordar varias aplicaciones que despu\u00e9s podr\u00edan surgir."
     ]
    },
    {
     "cell_type": "heading",
     "level": 2,
     "metadata": {},
     "source": [
      "Cambio en la metodolog\u00eda."
     ]
    },
    {
     "cell_type": "raw",
     "metadata": {},
     "source": [
      "Dentro de las observaciones, el profesor me pidi\u00f3 modificar la metodolog\u00eda aludiendo que est\u00e1 enfocada al desarrollo del \"producto\" y no al del trabajo. Entonces pens\u00e9 cambiarla de la siguiente manera:\n",
      "\n",
      "1.- Revisi\u00f3n del estado del arte.\n",
      "2.- Instalaci\u00f3n y configuraci\u00f3n del ambiente de programaci\u00f3n: CUDA y Python.\n",
      "3.- Identificar los pasos a seguir para el desarrollo de la metodolog\u00eda.\n",
      "4.- Determinaci\u00f3n de las aplicaciones del problema de la difusi\u00f3n a resolver, de acuerdo al punto anterior.\n",
      "5.- Selecci\u00f3n de los m\u00e9todos a utilizar.\n",
      "6.- Soluci\u00f3n general anal\u00edtica a la ecuaci\u00f3n de difusi\u00f3n en dos dimensiones.\n",
      "7.- Implementaci\u00f3n de algoritmos num\u00e9ricos en procesadores seriales, usando C y Python, para la obtenci\u00f3n de la soluci\u00f3n a la ecuaci\u00f3n de difusi\u00f3n.\n",
      "8.- Implementaci\u00f3n de algoritmos num\u00e9ricos en procesadores masivamente paralelos, usando CUDA y Python, para la obtenci\u00f3n de la soluci\u00f3n a la ecuaci\u00f3n de difusi\u00f3n.\n",
      "9.- Mediciones de tiempo y memoria consumida, adem\u00e1s de otros par\u00e1metros a especificar.\n",
      "10.- An\u00e1lisis y discusi\u00f3n de los resultados obtenidos en cada procesador, mediante comparaci\u00f3n.\n",
      "\n",
      "Creo que plantearla de esa forma, o de un modo similar, resolver\u00eda el problema de tener una metodolog\u00eda enfocada al \"producto\" y no al trabajo. Sin embargo, no estoy seguro de que deban ser \u00e9stos puntos y no otros, o si est\u00e1n completos. Aunque me parece que va en el sentido en que me lo recomend\u00f3 el profesor Eduardo."
     ]
    },
    {
     "cell_type": "code",
     "collapsed": false,
     "input": [],
     "language": "python",
     "metadata": {},
     "outputs": []
    }
   ],
   "metadata": {}
  }
 ]
}