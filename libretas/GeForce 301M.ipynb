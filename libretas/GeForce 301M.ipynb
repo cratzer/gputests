{
 "metadata": {
  "name": ""
 },
 "nbformat": 3,
 "nbformat_minor": 0,
 "worksheets": [
  {
   "cells": [
    {
     "cell_type": "heading",
     "level": 1,
     "metadata": {},
     "source": [
      "Especificaciones t\u00e9cnicas del GeForce 310M, procesador masivamente paralelo NVIDIA."
     ]
    },
    {
     "cell_type": "heading",
     "level": 1,
     "metadata": {},
     "source": [
      "GeForce 310M"
     ]
    },
    {
     "cell_type": "raw",
     "metadata": {},
     "source": [
      "Contiene un procesador gr\u00e1fico DirectX 10.1 con Shader Model 4.1, lo que le permite ofrecer un mayor detalle en texturas, iluminaci\u00f3n y efectos especiales, como los que pueden tenerse en video juegos o en la edici\u00f3n de videos en HD. Adem\u00e1s, posee un consumo de potencia menor a la generaci\u00f3n de procesadores anteriores, lo cual otorga una mayor duraci\u00f3n a la bater\u00eda del dispositivo que lo use."
     ]
    },
    {
     "cell_type": "heading",
     "level": 1,
     "metadata": {},
     "source": [
      "Global memory: 512 MBytes"
     ]
    },
    {
     "cell_type": "raw",
     "metadata": {},
     "source": [
      "Es la memoria a la cual tienen acceso todos los hilos que han sido definidos dentro del grid en cuesti\u00f3n, es decir, est\u00e1 disponible para todos los hilos de todos los bloques definidos dentro del grid. Es uno de los recursos que comparten al momento de realizar sus operaciones y permite ejecutar a mayor velocidad las aplicaciones."
     ]
    },
    {
     "cell_type": "heading",
     "level": 1,
     "metadata": {},
     "source": [
      "Warp size: 32"
     ]
    },
    {
     "cell_type": "raw",
     "metadata": {},
     "source": [
      "Es el n\u00famero de hilos que ejecuta simult\u00e1neamente el multiprocesador. Cuando recibe un bloque de hilos, el multiprocesador los divide en warps para su ejecuci\u00f3n. Lo ideal es que los 32 hilos se ejecuten de manera simult\u00e1nea, sin embargo, para escenarios en los cuales la ejecuci\u00f3n de ciertos hilos diverja del com\u00fan, el procesador ejecutar\u00e1 secuencialmente cada una de estos hilos hasta lograr su convergencia; posteriormente sigue con los c\u00e1lculos de forma paralela."
     ]
    },
    {
     "cell_type": "heading",
     "level": 1,
     "metadata": {},
     "source": [
      "Total amount of constant memory: 65536 bytes"
     ]
    },
    {
     "cell_type": "raw",
     "metadata": {},
     "source": [
      "Se trata de la memoria en la que el c\u00f3digo host puede escribir y leer, mediante el llamado de funciones del API correspondiente. La memoria constante permite solo lectura por parte del GPU y provee caminos de acceso a los datos m\u00e1s r\u00e1pidos que la memoria global, para ejecutar un kernel CUDA."
     ]
    },
    {
     "cell_type": "heading",
     "level": 1,
     "metadata": {},
     "source": [
      "Total amount of shared memory per block: 16483 bytes."
     ]
    },
    {
     "cell_type": "raw",
     "metadata": {},
     "source": [
      "Se trata de la cantidad de memoria que comparten los hilos definidos dentro de un bloque, el cual a su vez se encuentra dentro de un grid. A esta memoria compartida solamente pueden acceder aquellos hilos que correspondan a dicho bloque. "
     ]
    },
    {
     "cell_type": "heading",
     "level": 1,
     "metadata": {},
     "source": [
      "Total number of registers available per block: 16384"
     ]
    },
    {
     "cell_type": "raw",
     "metadata": {},
     "source": [
      "Representan los registros de las variables utilizadas por cada uno de los hilos de forma independiente, es decir, cada hilo tiene sus propios registros y es el \u00fanico que puede acceder a \u00e9stos. Los registros son privados entre los hilos, sin importar en donde se encuentren \u00e9stos."
     ]
    },
    {
     "cell_type": "heading",
     "level": 1,
     "metadata": {},
     "source": [
      "GPU clock rate: 1530 MHz (1.53 GHz)"
     ]
    },
    {
     "cell_type": "raw",
     "metadata": {},
     "source": [
      "Es la velocidad a la cual el procesador ejecuta las instrucciones que le son dadas."
     ]
    },
    {
     "cell_type": "heading",
     "level": 1,
     "metadata": {},
     "source": [
      "Memory clock rate: 790 MHz"
     ]
    },
    {
     "cell_type": "raw",
     "metadata": {},
     "source": [
      "Se trata de la velocidad que se tiene para acceder a la memoria."
     ]
    },
    {
     "cell_type": "heading",
     "level": 1,
     "metadata": {},
     "source": [
      "Memory bus width: 64 bit."
     ]
    },
    {
     "cell_type": "raw",
     "metadata": {},
     "source": [
      "Es la cantidad de datos que pueden transmitirse a la vez entre el GPU y el CPU host."
     ]
    },
    {
     "cell_type": "heading",
     "level": 1,
     "metadata": {},
     "source": [
      "Run time limit on kernels: yes"
     ]
    },
    {
     "cell_type": "raw",
     "metadata": {},
     "source": [
      "Significa que el tiempo de ejecuci\u00f3n de un kernel CUDA se encuentra limitado por un intervalo especificado."
     ]
    }
   ],
   "metadata": {}
  }
 ]
}